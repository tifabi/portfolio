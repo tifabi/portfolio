{
 "cells": [
  {
   "cell_type": "markdown",
   "metadata": {},
   "source": [
    "# Make a dictionary of words, from a paragraph, only count words with 4 or more characters. Key of the dictionary is a word and value is the count of times that word has appeared in the paragraph.\n",
    "\n"
   ]
  },
  {
   "cell_type": "code",
   "execution_count": 1,
   "metadata": {
    "collapsed": true
   },
   "outputs": [],
   "source": [
    "mySentence = \"It's the Spice Girls but not as you know them. Twenty years after it was first released, this famous girl power anthem has been given a 21st century feminist makeover. The new video is part of Project Everyone's campaign to improve the lives of women and girls everywhere, calling for an end to violence against girls, quality education for all and equal pay for equal work.\"\n",
    "\n"
   ]
  },
  {
   "cell_type": "code",
   "execution_count": 2,
   "metadata": {},
   "outputs": [
    {
     "name": "stdout",
     "output_type": "stream",
     "text": [
      "It's the Spice Girls but not as you know them. Twenty years after it was first released, this famous girl power anthem has been given a 21st century feminist makeover. The new video is part of Project Everyone's campaign to improve the lives of women and girls everywhere, calling for an end to violence against girls, quality education for all and equal pay for equal work.\n"
     ]
    }
   ],
   "source": [
    "print mySentence"
   ]
  },
  {
   "cell_type": "markdown",
   "metadata": {},
   "source": [
    "#Step 1: Remove words with less than 4 characters, split into a list, make lowercase"
   ]
  },
  {
   "cell_type": "code",
   "execution_count": 3,
   "metadata": {},
   "outputs": [
    {
     "name": "stdout",
     "output_type": "stream",
     "text": [
      "it's the spice girls but not as you know them. twenty years after it was first released, this famous girl power anthem has been given a 21st century feminist makeover. the new video is part of project everyone's campaign to improve the lives of women and girls everywhere, calling for an end to violence against girls, quality education for all and equal pay for equal work.\n"
     ]
    }
   ],
   "source": [
    "mySentence = mySentence.lower()\n",
    "myList = [word for word in mySentence.split() if len(word)>3]\n",
    "\n",
    "print myList"
   ]
  },
  {
   "cell_type": "markdown",
   "metadata": {},
   "source": [
    "#Step 2: Remove non characters\n"
   ]
  },
  {
   "cell_type": "code",
   "execution_count": 4,
   "metadata": {},
   "outputs": [
    {
     "name": "stdout",
     "output_type": "stream",
     "text": [
      "['spice', 'girls', 'know', 'twenty', 'years', 'after', 'first', 'this', 'famous', 'girl', 'power', 'anthem', 'been', 'given', 'century', 'feminist', 'video', 'part', 'project', 'campaign', 'improve', 'lives', 'women', 'girls', 'calling', 'violence', 'against', 'quality', 'education', 'equal', 'equal']\n"
     ]
    }
   ],
   "source": [
    "myList = [word for word in myList if word.isalpha()]\n",
    "\n",
    "print myList"
   ]
  },
  {
   "cell_type": "markdown",
   "metadata": {},
   "source": [
    "#Step 3: Create dictionary\n"
   ]
  },
  {
   "cell_type": "code",
   "execution_count": 5,
   "metadata": {},
   "outputs": [
    {
     "name": "stdout",
     "output_type": "stream",
     "text": [
      "{'campaign': [1], 'century': [1], 'years': [1], 'video': [1], 'girl': [1], 'education': [1], 'quality': [1], 'given': [1], 'feminist': [1], 'twenty': [1], 'girls': [2], 'been': [1], 'spice': [1], 'power': [1], 'after': [1], 'famous': [1], 'part': [1], 'lives': [1], 'know': [1], 'improve': [1], 'this': [1], 'violence': [1], 'equal': [2], 'against': [1], 'calling': [1], 'project': [1], 'women': [1], 'anthem': [1], 'first': [1]}\n"
     ]
    }
   ],
   "source": [
    "myDict = {}\n",
    "for word in myList:\n",
    "    myDict[word]=[myList.count(word)]\n",
    "\n",
    "print myDict"
   ]
  }
 ],
 "metadata": {
  "kernelspec": {
   "display_name": "Python 2",
   "language": "python",
   "name": "python2"
  },
  "language_info": {
   "codemirror_mode": {
    "name": "ipython",
    "version": 2
   },
   "file_extension": ".py",
   "mimetype": "text/x-python",
   "name": "python",
   "nbconvert_exporter": "python",
   "pygments_lexer": "ipython2",
   "version": "2.7.13"
  }
 },
 "nbformat": 4,
 "nbformat_minor": 2
}
